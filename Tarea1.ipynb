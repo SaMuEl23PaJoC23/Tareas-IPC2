{
  "nbformat": 4,
  "nbformat_minor": 0,
  "metadata": {
    "colab": {
      "name": "1. listas enlazadas.ipynb",
      "provenance": [],
      "collapsed_sections": [],
      "authorship_tag": "ABX9TyOUcbYussqg04imSykhIZQ5",
      "include_colab_link": true
    },
    "kernelspec": {
      "name": "python3",
      "display_name": "Python 3"
    },
    "language_info": {
      "name": "python"
    }
  },
  "cells": [
    {
      "cell_type": "markdown",
      "metadata": {
        "id": "view-in-github",
        "colab_type": "text"
      },
      "source": [
        "<a href=\"https://colab.research.google.com/github/SaMuEl23PaJoC23/Tareas-IPC2/blob/main/Tarea1.ipynb\" target=\"_parent\"><img src=\"https://colab.research.google.com/assets/colab-badge.svg\" alt=\"Open In Colab\"/></a>"
      ]
    },
    {
      "cell_type": "markdown",
      "metadata": {
        "id": "AAdXgmvlt6Hp"
      },
      "source": [
        "##**Lista Enlazada**\n",
        "######**Definición de la clase Estudiante**"
      ]
    },
    {
      "cell_type": "code",
      "metadata": {
        "id": "fgEtsZ1Rw3nr"
      },
      "source": [
        "class estudiante:\n",
        "  def __init__(self, carnet, nombre, edad, direccion, telefono, email, carrera, puesto):\n",
        "    self.carnet=carnet\n",
        "    self.nombre=nombre\n",
        "    self.edad=edad\n",
        "    self.direccion=direccion\n",
        "    self.telefono=telefono\n",
        "    self.email=email\n",
        "    self.carrera=carrera\n",
        "    self.puesto=puesto"
      ],
      "execution_count": 1,
      "outputs": []
    },
    {
      "cell_type": "markdown",
      "metadata": {
        "id": "Hs4iBCivzSfh"
      },
      "source": [
        "######**Definición de la clase Nodo**"
      ]
    },
    {
      "cell_type": "code",
      "metadata": {
        "id": "CQpztA3wzbfG"
      },
      "source": [
        "class nodo:\n",
        "  def __init__(self, estudiante=None, siguiente=None):\n",
        "    self.estudiante=estudiante\n",
        "    self.siguiente=siguiente"
      ],
      "execution_count": 2,
      "outputs": []
    },
    {
      "cell_type": "markdown",
      "metadata": {
        "id": "bWiKaF4Q2zSl"
      },
      "source": [
        "######**Definición de la clase Lista Enlazada**"
      ]
    },
    {
      "cell_type": "code",
      "metadata": {
        "id": "2FydlXtz231l"
      },
      "source": [
        "class lista_enlazada:\n",
        "  def __init__(self):\n",
        "    self.primero=None\n",
        "\n",
        "  def insertar(self, estudiante):\n",
        "    if self.primero is None:\n",
        "      self.primero = nodo(estudiante)\n",
        "      return\n",
        "    actual = self.primero\n",
        "    while actual.siguiente:\n",
        "      actual =  actual.siguiente\n",
        "    actual.siguiente=nodo(estudiante)\n",
        "\n",
        "  def recorrer(self):\n",
        "    actual=self.primero\n",
        "    while actual != None:\n",
        "      print(\"Carnet:\",actual.estudiante.carnet, \" - Nombre:\",actual.estudiante.nombre, \" - Email:\",actual.estudiante.email, \"-->\")\n",
        "      actual=actual.siguiente\n",
        "  \n",
        "  def eliminar(self, carnet):\n",
        "    actual=self.primero\n",
        "    anterior=None\n",
        "\n",
        "    while actual and actual.estudiante.carnet != carnet:\n",
        "      anterior=actual\n",
        "      actual=actual.siguiente\n",
        "\n",
        "    if anterior is None:\n",
        "      self.primero=actual.siguiente\n",
        "      actual.siguiente=None\n",
        "\n",
        "    elif actual:\n",
        "      actual.siguiente=actual.siguiente\n",
        "      actual.siguiente=None\n",
        "\n",
        "\n",
        "  def buscar(self, carnet):\n",
        "    actual=self.primero\n",
        "    anterior=None\n",
        "    banderaExistene=True\n",
        "\n",
        "    while actual and actual.estudiante.carnet != carnet:\n",
        "      anterior=actual\n",
        "      actual=actual.siguiente\n",
        "\n",
        "      if actual == None:\n",
        "        print(\"NO EXISTENTE\")\n",
        "        banderaExistene=False\n",
        "        break\n",
        "\n",
        "    if banderaExistene==True:\n",
        "      print(\"Nombre: \",actual.estudiante.nombre, \" - Carnet:\",actual.estudiante.carnet, \" - Email: \",actual.estudiante.email)\n",
        "\n",
        "    \n"
      ],
      "execution_count": 92,
      "outputs": []
    },
    {
      "cell_type": "markdown",
      "metadata": {
        "id": "FBrkhRQloSJR"
      },
      "source": [
        "##**Creación de objetos Estudiante**"
      ]
    },
    {
      "cell_type": "code",
      "metadata": {
        "id": "8IN8dCAQsm0B"
      },
      "source": [
        "e1=estudiante(201800665, \"samuel Pajoc\",22, \"16 av. linda vista\", 40420033, \"sam.ale@gmail.com\", \"sistemas\", \"Jefe de desarrollo\")\n",
        "e2=estudiante(201800888, \"alejandro Raymundo\",23, \"16 av. linda vista villa nueva\", 40420011, \"ale@gmail.com\", \"sistemas\", \"Supervisor de proyectos\")\n",
        "e3=estudiante(201800112, \"Katherine Gamez\",25, \"16 av. la paz, Mexico\", 40420432, \"katherine@gmail.com\", \"publicidad\", \"Supervisora de marketing\")\n",
        "e4=estudiante(201800123, \"Sandra Raymundo\",21, \"16 av. Mixco, Guatemala\", 40420123, \"sandra@gmail.com\", \"publicidad\", \"Supervisora de marketing\")"
      ],
      "execution_count": 93,
      "outputs": []
    },
    {
      "cell_type": "markdown",
      "metadata": {
        "id": "67mMrZkTtduP"
      },
      "source": [
        "##**Inserción**"
      ]
    },
    {
      "cell_type": "code",
      "metadata": {
        "id": "m7DAUBaEtjyH"
      },
      "source": [
        "lista_estudiantes=lista_enlazada()\n",
        "lista_estudiantes.insertar(e1)\n",
        "lista_estudiantes.insertar(e2)\n",
        "lista_estudiantes.insertar(e3)\n",
        "lista_estudiantes.insertar(e4)"
      ],
      "execution_count": 94,
      "outputs": []
    },
    {
      "cell_type": "markdown",
      "metadata": {
        "id": "KCQOMxw8uJk3"
      },
      "source": [
        "##**Recorrer Lista**"
      ]
    },
    {
      "cell_type": "code",
      "metadata": {
        "colab": {
          "base_uri": "https://localhost:8080/"
        },
        "id": "r7qYtp9huPyA",
        "outputId": "e2b40c73-68b2-4214-a7cf-e5a57f22d1a5"
      },
      "source": [
        "lista_estudiantes.recorrer()"
      ],
      "execution_count": 95,
      "outputs": [
        {
          "output_type": "stream",
          "text": [
            "Carnet: 201800665  - Nombre: samuel Pajoc  - Email: sam.ale@gmail.com -->\n",
            "Carnet: 201800888  - Nombre: alejandro Raymundo  - Email: ale@gmail.com -->\n",
            "Carnet: 201800112  - Nombre: Katherine Gamez  - Email: katherine@gmail.com -->\n",
            "Carnet: 201800123  - Nombre: Sandra Raymundo  - Email: sandra@gmail.com -->\n"
          ],
          "name": "stdout"
        }
      ]
    },
    {
      "cell_type": "markdown",
      "metadata": {
        "id": "Zs68gPZszyT6"
      },
      "source": [
        "##**Eliminar un nodo de la lista**"
      ]
    },
    {
      "cell_type": "code",
      "metadata": {
        "colab": {
          "base_uri": "https://localhost:8080/"
        },
        "id": "rvk9Dm-bwg3T",
        "outputId": "52fd958a-b395-4442-fe29-9fb17a5fb18d"
      },
      "source": [
        "lista_estudiantes.eliminar(201800123)\n",
        "lista_estudiantes.recorrer()"
      ],
      "execution_count": 71,
      "outputs": [
        {
          "output_type": "stream",
          "text": [
            "Carnet: 201800888  - Nombre: alejandro Raymundo  - Email: ale@gmail.com -->\n",
            "Carnet: 201800112  - Nombre: Katherine Gamez  - Email: katherine@gmail.com -->\n",
            "Carnet: 201800123  - Nombre: Sandra Raymundo  - Email: sandra@gmail.com -->\n"
          ],
          "name": "stdout"
        }
      ]
    },
    {
      "cell_type": "markdown",
      "metadata": {
        "id": "HcOPZwmU_fJV"
      },
      "source": [
        "##**Buscar un nodo de la lista**"
      ]
    },
    {
      "cell_type": "code",
      "metadata": {
        "colab": {
          "base_uri": "https://localhost:8080/"
        },
        "id": "p47vyi-e_iX9",
        "outputId": "e5b324cd-78a8-4eca-823f-67d93fb92a6f"
      },
      "source": [
        "lista_estudiantes.buscar(201800112)"
      ],
      "execution_count": 104,
      "outputs": [
        {
          "output_type": "stream",
          "text": [
            "Nombre:  Katherine Gamez  - Carnet: 201800112  - Email:  katherine@gmail.com\n"
          ],
          "name": "stdout"
        }
      ]
    }
  ]
}