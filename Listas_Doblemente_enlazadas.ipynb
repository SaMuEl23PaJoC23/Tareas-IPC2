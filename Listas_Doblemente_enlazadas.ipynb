{
  "nbformat": 4,
  "nbformat_minor": 0,
  "metadata": {
    "colab": {
      "name": "Listas Doblemente enlazadas.ipynb",
      "provenance": [],
      "collapsed_sections": [],
      "authorship_tag": "ABX9TyOdWpeB5XKo0Nvc9NIAt2YM",
      "include_colab_link": true
    },
    "kernelspec": {
      "name": "python3",
      "display_name": "Python 3"
    },
    "language_info": {
      "name": "python"
    }
  },
  "cells": [
    {
      "cell_type": "markdown",
      "metadata": {
        "id": "view-in-github",
        "colab_type": "text"
      },
      "source": [
        "<a href=\"https://colab.research.google.com/github/SaMuEl23PaJoC23/Tareas-IPC2/blob/main/Listas_Doblemente_enlazadas.ipynb\" target=\"_parent\"><img src=\"https://colab.research.google.com/assets/colab-badge.svg\" alt=\"Open In Colab\"/></a>"
      ]
    },
    {
      "cell_type": "markdown",
      "metadata": {
        "id": "aYVLVsFqvsE0"
      },
      "source": [
        "##**Lista Doblemente Enlazada**\n",
        "####**Definicion de la clase Estudiante**"
      ]
    },
    {
      "cell_type": "code",
      "metadata": {
        "id": "kY-wWnAdvxdC"
      },
      "source": [
        "class estudiante:\n",
        "  def __init__(self, carnet, nombre, edad, direccion, telefono, email, carrera, puesto):\n",
        "    self.carnet=carnet\n",
        "    self.nombre=nombre\n",
        "    self.edad=edad\n",
        "    self.direccion=direccion\n",
        "    self.telefono=telefono\n",
        "    self.email=email\n",
        "    self.carrera=carrera\n",
        "    self.puesto=puesto"
      ],
      "execution_count": null,
      "outputs": []
    },
    {
      "cell_type": "markdown",
      "metadata": {
        "id": "GoZtC5aGz5Hh"
      },
      "source": [
        "####**Definicipon de la clase Nodo**"
      ]
    },
    {
      "cell_type": "code",
      "metadata": {
        "id": "abBGhYRoz9CO"
      },
      "source": [
        "class nodo:\n",
        "  def __init__(self, estudiante=None, siguiente=None, anterior=None):\n",
        "    self.estudiante=estudiante\n",
        "    self.siguiente=siguiente\n",
        "    self.anterior=anterior"
      ],
      "execution_count": null,
      "outputs": []
    },
    {
      "cell_type": "markdown",
      "metadata": {
        "id": "ZUfGJoCm0KX3"
      },
      "source": [
        "####**Definición de la Clase Lista Doblemente Enlazada**"
      ]
    },
    {
      "cell_type": "code",
      "metadata": {
        "id": "hhP_Dv-L0RLy"
      },
      "source": [
        "class lista_doble:\n",
        "  def __init__(self):\n",
        "    self.primero = None\n",
        "\n",
        "  def insertar(self, estudiante):\n",
        "    if self.primero is None:\n",
        "      self.primero = nodo(estudiante)\n",
        "    else:\n",
        "      actual=nodo(estudiante, self.primero)\n",
        "      self.primero.anterior=actual\n",
        "      self.primero=actual\n",
        "\n",
        "  def recorrer(self):\n",
        "    if self.primero is None:\n",
        "      return\n",
        "    actual = self.primero\n",
        "    print(\"carnet: \", actual.estudiante.carnet, \"Nombre: \", actual.estudiante.nombre,\" Email: \",actual.estudiante.email,\" -->\")\n",
        "    while actual.siguiente:\n",
        "      actual=actual.siguiente\n",
        "      print(\"carnet\", actual.estudiante.carnet, \"Nombre: \", actual.estudiante.nombre,\" Email:\",actual.estudiante.email,\" -->\")\n",
        "\n",
        "  def eliminar(self,carnet):\n",
        "    actual=self.primero\n",
        "\n",
        "    while actual:\n",
        "      if actual.estudiante.carnet==carnet:\n",
        "        if actual.anterior:\n",
        "          if actual.siguiente:\n",
        "            actual.anterior.siguiente=actual.siguiente\n",
        "            actual.siguiente.anterior=actual.anterior\n",
        "          else:\n",
        "            actual.anterior.siguiente=None\n",
        "            actual.anterior=None\n",
        "        else:\n",
        "          if actual.siguiente:\n",
        "            self.primero=actual.siguiente\n",
        "            actual.siguiente.anterior=None\n",
        "          else:\n",
        "            self.primero=None\n",
        "        return True\n",
        "      else:\n",
        "        actual=actual.siguiente\n",
        "    return False"
      ],
      "execution_count": null,
      "outputs": []
    },
    {
      "cell_type": "markdown",
      "metadata": {
        "id": "n5WTEEUu2aEe"
      },
      "source": [
        "####**Creacion de objetos Estudiante**"
      ]
    },
    {
      "cell_type": "code",
      "metadata": {
        "id": "vvMjhgyk2eHy"
      },
      "source": [
        "e1=estudiante(201800665, \"samuel Pajoc\",22, \"16 av. linda vista\", 40420033, \"sam.ale@gmail.com\", \"sistemas\", \"Jefe de desarrollo\")\n",
        "e2=estudiante(201800888, \"alejandro Raymundo\",23, \"16 av. linda vista villa nueva\", 40420011, \"ale@gmail.com\", \"sistemas\", \"Supervisor de codigo\")\n",
        "e3=estudiante(201800112, \"Katy Gamez\",25, \"16 av. Mexico\", 40420432, \"katerin@gmail.com\", \"sistemas\", \"Supervisora de marketing\")"
      ],
      "execution_count": null,
      "outputs": []
    },
    {
      "cell_type": "markdown",
      "metadata": {
        "id": "NcNanehyuHis"
      },
      "source": [
        "##**Inserción**"
      ]
    },
    {
      "cell_type": "code",
      "metadata": {
        "id": "dj0MliGFt83T"
      },
      "source": [
        "lista_d=lista_doble()\n",
        "lista_d.insertar(e1)\n",
        "lista_d.insertar(e2)\n",
        "lista_d.insertar(e3)"
      ],
      "execution_count": null,
      "outputs": []
    },
    {
      "cell_type": "markdown",
      "metadata": {
        "id": "ZZetq44zw-So"
      },
      "source": [
        "##**Recorrer Lista**"
      ]
    },
    {
      "cell_type": "code",
      "metadata": {
        "colab": {
          "base_uri": "https://localhost:8080/"
        },
        "id": "N08RemtOwfiI",
        "outputId": "ce0cb847-740e-45d6-cd9d-530ed0702b9c"
      },
      "source": [
        "lista_d.recorrer()"
      ],
      "execution_count": null,
      "outputs": [
        {
          "output_type": "stream",
          "text": [
            "carnet:  201800112 Nombre:  Katy Gamez  Email:  katerin@gmail.com  -->\n",
            "carnet 201800888 Nombre:  alejandro Raymundo  Email: ale@gmail.com  -->\n",
            "carnet 201800665 Nombre:  samuel Pajoc  Email: sam.ale@gmail.com  -->\n"
          ],
          "name": "stdout"
        }
      ]
    },
    {
      "cell_type": "markdown",
      "metadata": {
        "id": "hwyOQrhW7fnH"
      },
      "source": [
        "##**Eliminar un nodo de la lista(nodo de enmedio)**"
      ]
    },
    {
      "cell_type": "code",
      "metadata": {
        "colab": {
          "base_uri": "https://localhost:8080/"
        },
        "id": "KLkTQ2IS7uA6",
        "outputId": "b887f8bd-a255-4af9-8fa5-a0e3b0a9084c"
      },
      "source": [
        "lista_d.eliminar(201800888)"
      ],
      "execution_count": null,
      "outputs": [
        {
          "output_type": "execute_result",
          "data": {
            "text/plain": [
              "True"
            ]
          },
          "metadata": {},
          "execution_count": 45
        }
      ]
    },
    {
      "cell_type": "code",
      "metadata": {
        "colab": {
          "base_uri": "https://localhost:8080/"
        },
        "id": "BGGem3VW723i",
        "outputId": "0e42c1ef-c5c7-43cc-a484-2003e538cb9e"
      },
      "source": [
        "lista_d.recorrer()"
      ],
      "execution_count": null,
      "outputs": [
        {
          "output_type": "stream",
          "text": [
            "carnet:  201800112 Nombre:  Katy Gamez  Email:  katerin@gmail.com  -->\n",
            "carnet 201800665 Nombre:  samuel Pajoc  Email: sam.ale@gmail.com  -->\n"
          ],
          "name": "stdout"
        }
      ]
    },
    {
      "cell_type": "markdown",
      "metadata": {
        "id": "23DF-pjI8HrH"
      },
      "source": [
        "##**Eliminando el nodo(primero)**"
      ]
    },
    {
      "cell_type": "code",
      "metadata": {
        "colab": {
          "base_uri": "https://localhost:8080/"
        },
        "id": "3S2QyiEh8L0g",
        "outputId": "ba68cd9e-d16f-46fc-c9b6-6a5b1f454652"
      },
      "source": [
        "lista_d.eliminar(201800665)"
      ],
      "execution_count": null,
      "outputs": [
        {
          "output_type": "execute_result",
          "data": {
            "text/plain": [
              "True"
            ]
          },
          "metadata": {},
          "execution_count": 59
        }
      ]
    },
    {
      "cell_type": "code",
      "metadata": {
        "colab": {
          "base_uri": "https://localhost:8080/"
        },
        "id": "OC2dLMmr8jz3",
        "outputId": "2220d1de-67e3-48f6-8f15-ce78f7725888"
      },
      "source": [
        "lista_d.recorrer()"
      ],
      "execution_count": null,
      "outputs": [
        {
          "output_type": "stream",
          "text": [
            "carnet:  201800112 Nombre:  Katy Gamez  Email:  katerin@gmail.com  -->\n",
            "carnet 201800888 Nombre:  alejandro Raymundo  Email: ale@gmail.com  -->\n"
          ],
          "name": "stdout"
        }
      ]
    },
    {
      "cell_type": "markdown",
      "metadata": {
        "id": "DRWSdj0N8spY"
      },
      "source": [
        "##**Eliminando el nodo (ultimo)**"
      ]
    },
    {
      "cell_type": "code",
      "metadata": {
        "colab": {
          "base_uri": "https://localhost:8080/"
        },
        "id": "bCNyAKTs80T0",
        "outputId": "9ad732c9-9353-489f-87f8-91e2fb69e3bc"
      },
      "source": [
        "lista_d.eliminar(201800112)"
      ],
      "execution_count": null,
      "outputs": [
        {
          "output_type": "execute_result",
          "data": {
            "text/plain": [
              "True"
            ]
          },
          "metadata": {},
          "execution_count": 61
        }
      ]
    },
    {
      "cell_type": "code",
      "metadata": {
        "colab": {
          "base_uri": "https://localhost:8080/"
        },
        "id": "n6EANIey88pb",
        "outputId": "d2f54f4f-a3d1-40b4-b4f4-92e994fb3ec6"
      },
      "source": [
        "lista_d.recorrer()"
      ],
      "execution_count": null,
      "outputs": [
        {
          "output_type": "stream",
          "text": [
            "carnet:  201800888 Nombre:  alejandro Raymundo  Email:  ale@gmail.com  -->\n"
          ],
          "name": "stdout"
        }
      ]
    }
  ]
}