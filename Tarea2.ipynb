{
  "nbformat": 4,
  "nbformat_minor": 0,
  "metadata": {
    "colab": {
      "name": "Listas Circulares.ipynb",
      "provenance": [],
      "collapsed_sections": [],
      "authorship_tag": "ABX9TyNcMY+geBFswDP6PrebdkFz",
      "include_colab_link": true
    },
    "kernelspec": {
      "name": "python3",
      "display_name": "Python 3"
    },
    "language_info": {
      "name": "python"
    }
  },
  "cells": [
    {
      "cell_type": "markdown",
      "metadata": {
        "id": "view-in-github",
        "colab_type": "text"
      },
      "source": [
        "<a href=\"https://colab.research.google.com/github/SaMuEl23PaJoC23/Tareas-IPC2/blob/main/Tarea2.ipynb\" target=\"_parent\"><img src=\"https://colab.research.google.com/assets/colab-badge.svg\" alt=\"Open In Colab\"/></a>"
      ]
    },
    {
      "cell_type": "markdown",
      "metadata": {
        "id": "1VbwHLblzXXj"
      },
      "source": [
        "##**Listas Circulares**"
      ]
    },
    {
      "cell_type": "code",
      "metadata": {
        "id": "eeVnYHdszSrd"
      },
      "source": [
        "class estudiante:\n",
        "  def __init__(self, carnet, nombre, edad, direccion, telefono, email, carrera, puesto):\n",
        "    self.carnet=carnet\n",
        "    self.nombre=nombre\n",
        "    self.edad=edad\n",
        "    self.direccion=direccion\n",
        "    self.telefono=telefono\n",
        "    self.email=email\n",
        "    self.carrera=carrera\n",
        "    self.puesto=puesto"
      ],
      "execution_count": 13,
      "outputs": []
    },
    {
      "cell_type": "markdown",
      "metadata": {
        "id": "VniZyYsu1eqz"
      },
      "source": [
        "##**Definición de la clase Nodo**"
      ]
    },
    {
      "cell_type": "code",
      "metadata": {
        "id": "M85A9tAv1kKM"
      },
      "source": [
        "class nodo:\n",
        "  def __init__(self, estudiante=None, siguiente=None):\n",
        "    self.estudiante=estudiante\n",
        "    self.siguiente=siguiente"
      ],
      "execution_count": 14,
      "outputs": []
    },
    {
      "cell_type": "markdown",
      "metadata": {
        "id": "qvnSIBmj1mXd"
      },
      "source": [
        "##**Definición de la clase Lista Circular**"
      ]
    },
    {
      "cell_type": "code",
      "metadata": {
        "id": "scLW88VR1rO5"
      },
      "source": [
        "class lista_circular:\n",
        "  def __init__(self):\n",
        "    self.primero = None\n",
        "\n",
        "  def insertar(self, estudiante):\n",
        "    if self.primero is None:\n",
        "      self.primero = nodo(estudiante)\n",
        "      self.primero.siguiente=self.primero\n",
        "\n",
        "    else:\n",
        "      actual = nodo(estudiante, self.primero.siguiente)\n",
        "      self.primero.siguiente = actual\n",
        "\n",
        "  def recorrer(self):\n",
        "    if self.primero is None:\n",
        "      return\n",
        "    actual = self.primero\n",
        "    print(\"carnet:\",actual.estudiante.carnet, \"nombre:\", actual.estudiante.nombre, \"email:\", actual.estudiante.email,\"-->\")\n",
        "    \n",
        "    while actual.siguiente != self.primero:\n",
        "      actual=actual.siguiente\n",
        "      print(\"carnet:\",actual.estudiante.carnet, \"nombre:\", actual.estudiante.nombre, \"email:\", actual.estudiante.email,\"-->\")\n",
        "\n",
        "  def eliminar(self,carnet):\n",
        "    actual=self.primero\n",
        "    anterior=None\n",
        "\n",
        "    while actual != None and actual.estudiante.carnet != carnet:\n",
        "      anterior=actual\n",
        "      actual=actual.siguiente\n",
        "      if actual.estudiante.carnet == self.primero.estudiante.carnet:\n",
        "        print(\"carnet no existente\\n\")\n",
        "        no_encontrado=True\n",
        "        break\n",
        "    if not no_encontrado:\n",
        "\n",
        "      if anterior is not None:\n",
        "        anterior.siguiente=actual.siguiente\n",
        "      else:\n",
        "        while actual.siguiente != self.primero:\n",
        "          actual = actual.siguiente\n",
        "        actual.siguiente = self.primero.siguiente\n",
        "        self.primero=self.primero.siguiente\n",
        "\n",
        "\n",
        "  def buscar(self,carnet):\n",
        "    actual=self.primero\n",
        "    anterior=None\n",
        "    existente=True\n",
        "\n",
        "    while actual != None and actual.estudiante.carnet != carnet:\n",
        "      anterior=actual\n",
        "      actual=actual.siguiente\n",
        "      if actual.estudiante.carnet == self.primero.estudiante.carnet:\n",
        "        print(\"carnet no existente\")\n",
        "        existente=False\n",
        "        break\n",
        "    if existente == True:\n",
        "      print(\"Carnet: \",actual.estudiante.carnet,\" - Nombre: \",actual.estudiante.nombre, \" - Email: \",actual.estudiante.email)\n",
        "\n"
      ],
      "execution_count": 15,
      "outputs": []
    },
    {
      "cell_type": "markdown",
      "metadata": {
        "id": "MA7noKHl95ZT"
      },
      "source": [
        "##**Creación de objetos Estudiante**"
      ]
    },
    {
      "cell_type": "code",
      "metadata": {
        "id": "uzZ1vVNg9-3A"
      },
      "source": [
        "e1=estudiante(201800665, \"samuel Pajoc\",22, \"16 av. linda vista\", 40420033, \"sam.ale@gmail.com\", \"sistemas\", \"Jefe de desarrollo\")\n",
        "e2=estudiante(201800888, \"alejandro Raymundo\",23, \"16 av. linda vista villa nueva\", 40420011, \"ale@gmail.com\", \"sistemas\", \"Supervisor de codigo\")\n",
        "e3=estudiante(201800112, \"Katy Gamez\",25, \"16 av. Mexico\", 40420432, \"katerin@gmail.com\", \"sistemas\", \"Supervisora de marketing\")"
      ],
      "execution_count": 16,
      "outputs": []
    },
    {
      "cell_type": "markdown",
      "metadata": {
        "id": "ipZh2n3N-C6G"
      },
      "source": [
        "##**Inserción**"
      ]
    },
    {
      "cell_type": "code",
      "metadata": {
        "id": "lKlIOprF-GAE"
      },
      "source": [
        "lista_c=lista_circular()\n",
        "lista_c.insertar(e1)\n",
        "lista_c.insertar(e2)\n",
        "lista_c.insertar(e3)"
      ],
      "execution_count": 17,
      "outputs": []
    },
    {
      "cell_type": "markdown",
      "metadata": {
        "id": "H_56cbe0-Og3"
      },
      "source": [
        "##**Recorrer la lista**"
      ]
    },
    {
      "cell_type": "code",
      "metadata": {
        "colab": {
          "base_uri": "https://localhost:8080/"
        },
        "id": "I2wVMJ-c-RDw",
        "outputId": "858233cf-7605-49b8-969f-12e50935c482"
      },
      "source": [
        "lista_c.recorrer()"
      ],
      "execution_count": 18,
      "outputs": [
        {
          "output_type": "stream",
          "text": [
            "carnet: 201800665 nombre: samuel Pajoc email: sam.ale@gmail.com -->\n",
            "carnet: 201800112 nombre: Katy Gamez email: katerin@gmail.com -->\n",
            "carnet: 201800888 nombre: alejandro Raymundo email: ale@gmail.com -->\n"
          ],
          "name": "stdout"
        }
      ]
    },
    {
      "cell_type": "markdown",
      "metadata": {
        "id": "p8cjyE-5rond"
      },
      "source": [
        "#**Eliminar un nodo de la lista**"
      ]
    },
    {
      "cell_type": "code",
      "metadata": {
        "colab": {
          "base_uri": "https://localhost:8080/"
        },
        "id": "T_l6rnOCrwsy",
        "outputId": "f1bf0821-55d2-4eb0-87e7-4f63460852e1"
      },
      "source": [
        "lista_c.eliminar(123)\n",
        "lista_c.recorrer()"
      ],
      "execution_count": 19,
      "outputs": [
        {
          "output_type": "stream",
          "text": [
            "carnet no existente\n",
            "\n",
            "carnet: 201800665 nombre: samuel Pajoc email: sam.ale@gmail.com -->\n",
            "carnet: 201800112 nombre: Katy Gamez email: katerin@gmail.com -->\n",
            "carnet: 201800888 nombre: alejandro Raymundo email: ale@gmail.com -->\n"
          ],
          "name": "stdout"
        }
      ]
    },
    {
      "cell_type": "markdown",
      "metadata": {
        "id": "x3tYmp3Ke3Ph"
      },
      "source": [
        "##**Buscar un nodo en la lista**"
      ]
    },
    {
      "cell_type": "code",
      "metadata": {
        "colab": {
          "base_uri": "https://localhost:8080/"
        },
        "id": "koUtHBc5e8UN",
        "outputId": "693ff01d-93f8-45a0-ecf8-c0bf421ce8de"
      },
      "source": [
        "lista_c.buscar(201800665)"
      ],
      "execution_count": 20,
      "outputs": [
        {
          "output_type": "stream",
          "text": [
            "Carnet:  201800665  - Nombre:  samuel Pajoc  - Email:  sam.ale@gmail.com\n"
          ],
          "name": "stdout"
        }
      ]
    }
  ]
}