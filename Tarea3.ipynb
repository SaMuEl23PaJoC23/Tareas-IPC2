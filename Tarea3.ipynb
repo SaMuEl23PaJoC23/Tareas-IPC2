{
  "nbformat": 4,
  "nbformat_minor": 0,
  "metadata": {
    "colab": {
      "name": "Listas Doblemente enlazadas.ipynb",
      "provenance": [],
      "collapsed_sections": [
        "hwyOQrhW7fnH"
      ],
      "authorship_tag": "ABX9TyOLSZ2ujGxo37O0bebxsRtq",
      "include_colab_link": true
    },
    "kernelspec": {
      "name": "python3",
      "display_name": "Python 3"
    },
    "language_info": {
      "name": "python"
    }
  },
  "cells": [
    {
      "cell_type": "markdown",
      "metadata": {
        "id": "view-in-github",
        "colab_type": "text"
      },
      "source": [
        "<a href=\"https://colab.research.google.com/github/SaMuEl23PaJoC23/Tareas-IPC2/blob/main/Tarea3.ipynb\" target=\"_parent\"><img src=\"https://colab.research.google.com/assets/colab-badge.svg\" alt=\"Open In Colab\"/></a>"
      ]
    },
    {
      "cell_type": "markdown",
      "metadata": {
        "id": "aYVLVsFqvsE0"
      },
      "source": [
        "##**Lista Doblemente Enlazada**\n",
        "####**Definicion de la clase Estudiante**"
      ]
    },
    {
      "cell_type": "code",
      "metadata": {
        "id": "kY-wWnAdvxdC"
      },
      "source": [
        "class estudiante:\n",
        "  def __init__(self, carnet, nombre, edad, direccion, telefono, email, carrera, puesto):\n",
        "    self.carnet=carnet\n",
        "    self.nombre=nombre\n",
        "    self.edad=edad\n",
        "    self.direccion=direccion\n",
        "    self.telefono=telefono\n",
        "    self.email=email\n",
        "    self.carrera=carrera\n",
        "    self.puesto=puesto"
      ],
      "execution_count": 28,
      "outputs": []
    },
    {
      "cell_type": "markdown",
      "metadata": {
        "id": "GoZtC5aGz5Hh"
      },
      "source": [
        "####**Definicipon de la clase Nodo**"
      ]
    },
    {
      "cell_type": "code",
      "metadata": {
        "id": "abBGhYRoz9CO"
      },
      "source": [
        "class nodo:\n",
        "  def __init__(self, estudiante=None, siguiente=None, anterior=None):\n",
        "    self.estudiante=estudiante\n",
        "    self.siguiente=siguiente\n",
        "    self.anterior=anterior"
      ],
      "execution_count": 29,
      "outputs": []
    },
    {
      "cell_type": "markdown",
      "metadata": {
        "id": "ZUfGJoCm0KX3"
      },
      "source": [
        "####**Definición de la Clase Lista Doblemente Enlazada**"
      ]
    },
    {
      "cell_type": "code",
      "metadata": {
        "id": "hhP_Dv-L0RLy"
      },
      "source": [
        "class lista_doble:\n",
        "  def __init__(self):\n",
        "    self.primero = None\n",
        "\n",
        "  def insertar(self, estudiante):\n",
        "    if self.primero is None:\n",
        "      self.primero = nodo(estudiante)\n",
        "    else:\n",
        "      actual=nodo(estudiante, self.primero)\n",
        "      self.primero.anterior=actual\n",
        "      self.primero=actual\n",
        "\n",
        "  def recorrer(self):\n",
        "    if self.primero is None:\n",
        "      return\n",
        "    actual = self.primero\n",
        "    print(\"carnet: \", actual.estudiante.carnet, \"Nombre: \", actual.estudiante.nombre,\" Email: \",actual.estudiante.email,\" -->\")\n",
        "    while actual.siguiente:\n",
        "      actual=actual.siguiente\n",
        "      print(\"carnet\", actual.estudiante.carnet, \"Nombre: \", actual.estudiante.nombre,\" Email:\",actual.estudiante.email,\" -->\")\n",
        "\n",
        "  def eliminar(self,carnet):\n",
        "    actual=self.primero\n",
        "\n",
        "    while actual:\n",
        "      if actual.estudiante.carnet==carnet:\n",
        "        if actual.anterior:\n",
        "          if actual.siguiente:\n",
        "            actual.anterior.siguiente=actual.siguiente\n",
        "            actual.siguiente.anterior=actual.anterior\n",
        "          else:\n",
        "            actual.anterior.siguiente=None\n",
        "            actual.anterior=None\n",
        "        else:\n",
        "          if actual.siguiente:\n",
        "            self.primero=actual.siguiente\n",
        "            actual.siguiente.anterior=None\n",
        "          else:\n",
        "            self.primero=None\n",
        "        return True\n",
        "      else:\n",
        "        actual=actual.siguiente\n",
        "    return False\n",
        "\n",
        "\n",
        "  def buscar(self,carnet):\n",
        "    actual=self.primero\n",
        "\n",
        "    while actual:\n",
        "      if actual.estudiante.carnet == carnet:\n",
        "        print(\"carnet:\",actual.estudiante.carnet,\" - Nombre:\", actual.estudiante.nombre,\" - Email:\", actual.estudiante.email)\n",
        "        break\n",
        "      elif actual.siguiente==None:\n",
        "        print(\"Carnet no existente\")\n",
        "        break\n",
        "      else:\n",
        "        actual=actual.siguiente"
      ],
      "execution_count": 64,
      "outputs": []
    },
    {
      "cell_type": "markdown",
      "metadata": {
        "id": "n5WTEEUu2aEe"
      },
      "source": [
        "####**Creacion de objetos Estudiante**"
      ]
    },
    {
      "cell_type": "code",
      "metadata": {
        "id": "vvMjhgyk2eHy"
      },
      "source": [
        "e1=estudiante(201800665, \"samuel Pajoc\",22, \"16 av. linda vista\", 40420033, \"sam.ale@gmail.com\", \"sistemas\", \"Jefe de desarrollo\")\n",
        "e2=estudiante(201800888, \"alejandro Raymundo\",23, \"16 av. linda vista villa nueva\", 40420011, \"ale@gmail.com\", \"sistemas\", \"Supervisor de codigo\")\n",
        "e3=estudiante(201800112, \"Katy Gamez\",25, \"16 av. Mexico\", 40420432, \"katerin@gmail.com\", \"sistemas\", \"Supervisora de marketing\")"
      ],
      "execution_count": 78,
      "outputs": []
    },
    {
      "cell_type": "markdown",
      "metadata": {
        "id": "NcNanehyuHis"
      },
      "source": [
        "##**Inserción**"
      ]
    },
    {
      "cell_type": "code",
      "metadata": {
        "id": "dj0MliGFt83T"
      },
      "source": [
        "lista_d=lista_doble()\n",
        "lista_d.insertar(e1)\n",
        "lista_d.insertar(e2)\n",
        "lista_d.insertar(e3)"
      ],
      "execution_count": 79,
      "outputs": []
    },
    {
      "cell_type": "markdown",
      "metadata": {
        "id": "ZZetq44zw-So"
      },
      "source": [
        "##**Recorrer Lista**"
      ]
    },
    {
      "cell_type": "code",
      "metadata": {
        "colab": {
          "base_uri": "https://localhost:8080/"
        },
        "id": "N08RemtOwfiI",
        "outputId": "9d0cb9c0-647a-474c-b26b-f93dc11c81ef"
      },
      "source": [
        "lista_d.recorrer()"
      ],
      "execution_count": 80,
      "outputs": [
        {
          "output_type": "stream",
          "text": [
            "carnet:  201800112 Nombre:  Katy Gamez  Email:  katerin@gmail.com  -->\n",
            "carnet 201800888 Nombre:  alejandro Raymundo  Email: ale@gmail.com  -->\n",
            "carnet 201800665 Nombre:  samuel Pajoc  Email: sam.ale@gmail.com  -->\n"
          ],
          "name": "stdout"
        }
      ]
    },
    {
      "cell_type": "markdown",
      "metadata": {
        "id": "hwyOQrhW7fnH"
      },
      "source": [
        "##**Eliminar un nodo de la lista(nodo de enmedio)**"
      ]
    },
    {
      "cell_type": "code",
      "metadata": {
        "colab": {
          "base_uri": "https://localhost:8080/"
        },
        "id": "KLkTQ2IS7uA6",
        "outputId": "039b91ba-f700-4581-a035-1bcbd30f90f2"
      },
      "source": [
        "lista_d.eliminar(201800888)"
      ],
      "execution_count": 82,
      "outputs": [
        {
          "output_type": "execute_result",
          "data": {
            "text/plain": [
              "True"
            ]
          },
          "metadata": {},
          "execution_count": 82
        }
      ]
    },
    {
      "cell_type": "code",
      "metadata": {
        "colab": {
          "base_uri": "https://localhost:8080/"
        },
        "id": "BGGem3VW723i",
        "outputId": "6eefe607-c3ac-49b8-9552-3a07fa4f5079"
      },
      "source": [
        "lista_d.recorrer()"
      ],
      "execution_count": 83,
      "outputs": [
        {
          "output_type": "stream",
          "text": [
            "carnet:  201800112 Nombre:  Katy Gamez  Email:  katerin@gmail.com  -->\n",
            "carnet 201800665 Nombre:  samuel Pajoc  Email: sam.ale@gmail.com  -->\n"
          ],
          "name": "stdout"
        }
      ]
    },
    {
      "cell_type": "markdown",
      "metadata": {
        "id": "6TqP8wpHcWep"
      },
      "source": [
        "##**Buscar un nodo de la lista**"
      ]
    },
    {
      "cell_type": "code",
      "metadata": {
        "colab": {
          "base_uri": "https://localhost:8080/"
        },
        "id": "VpQFagwXcblY",
        "outputId": "db820873-2441-42e1-db5d-f8f01b939a26"
      },
      "source": [
        "lista_d.buscar(201800888)"
      ],
      "execution_count": 84,
      "outputs": [
        {
          "output_type": "stream",
          "text": [
            "Carnet no existente\n"
          ],
          "name": "stdout"
        }
      ]
    }
  ]
}